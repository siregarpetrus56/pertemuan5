{
 "cells": [
  {
   "cell_type": "markdown",
   "id": "e7e99721",
   "metadata": {},
   "source": [
    "#   Created by Elshad Karimov on 20/04/2020.\n",
    "#   Copyright © 2020 AppMillers. All rights reserved.\n",
    "\n",
    "#  Update / add an element to the dictionary"
   ]
  },
  {
   "cell_type": "code",
   "execution_count": null,
   "id": "eccf24c9",
   "metadata": {},
   "outputs": [],
   "source": [
    "myDict = {'name': 'Edy', 'age': 26}\n",
    "myDict['address'] = 'London'\n",
    "print(myDict)"
   ]
  },
  {
   "cell_type": "code",
   "execution_count": null,
   "id": "9caa715a",
   "metadata": {},
   "outputs": [],
   "source": [
    "#  Traverse through a dictionary\n",
    "def traverseDict(dict):\n",
    "    for key in dict:\n",
    "        print(key, dict[key])\n",
    "traverseDict(myDict)"
   ]
  },
  {
   "cell_type": "code",
   "execution_count": null,
   "id": "9e42f570",
   "metadata": {},
   "outputs": [],
   "source": [
    "#  Searching a dictionary\n",
    "def searchDict(dict, value):\n",
    "    for key in dict:\n",
    "        if dict[key] == value:\n",
    "            return key, value\n",
    "    return 'The value does not exist'\n",
    "print(searchDict(myDict, 27))"
   ]
  },
  {
   "cell_type": "code",
   "execution_count": null,
   "id": "9411151d",
   "metadata": {},
   "outputs": [],
   "source": [
    "#  Delete or remove a dictionary\n",
    "\n",
    "myDict.pop('name')"
   ]
  },
  {
   "cell_type": "code",
   "execution_count": null,
   "id": "a485c9e6",
   "metadata": {},
   "outputs": [],
   "source": [
    "print(myDict)"
   ]
  },
  {
   "cell_type": "code",
   "execution_count": null,
   "id": "4fcad55d",
   "metadata": {},
   "outputs": [],
   "source": [
    "# sorted method\n",
    "myDict = {'eooooa': 1, 'aas': 2, 'udd': 3, 'sseo': 4, 'werwi': 5}\n",
    "\n",
    "print(sorted(myDict, key=len))"
   ]
  },
  {
   "cell_type": "code",
   "execution_count": null,
   "id": "04005898",
   "metadata": {},
   "outputs": [],
   "source": [
    "print(myDict)"
   ]
  },
  {
   "cell_type": "code",
   "execution_count": null,
   "id": "fec2f628",
   "metadata": {},
   "outputs": [],
   "source": [
    "myDict.clear()"
   ]
  },
  {
   "cell_type": "code",
   "execution_count": null,
   "id": "5f639d44",
   "metadata": {},
   "outputs": [],
   "source": [
    "print(myDict)"
   ]
  },
  {
   "cell_type": "code",
   "execution_count": null,
   "id": "d11dc565",
   "metadata": {},
   "outputs": [],
   "source": [
    "myDict = {'name': 'Edy', 'age': 26}"
   ]
  },
  {
   "cell_type": "code",
   "execution_count": null,
   "id": "796414a2",
   "metadata": {},
   "outputs": [],
   "source": [
    "print(myDict)"
   ]
  },
  {
   "cell_type": "code",
   "execution_count": null,
   "id": "d12a24fb",
   "metadata": {},
   "outputs": [],
   "source": [
    "dict = myDict.copy()"
   ]
  },
  {
   "cell_type": "code",
   "execution_count": null,
   "id": "6535b012",
   "metadata": {},
   "outputs": [],
   "source": [
    "print(dict)"
   ]
  },
  {
   "cell_type": "code",
   "execution_count": null,
   "id": "bad63192",
   "metadata": {},
   "outputs": [],
   "source": [
    "newDict = {}.fromkeys([1,2,3], 0)\n",
    "print(newDict)"
   ]
  },
  {
   "cell_type": "code",
   "execution_count": null,
   "id": "3a3a148e",
   "metadata": {},
   "outputs": [],
   "source": [
    "print(myDict.get('name', 26))"
   ]
  },
  {
   "cell_type": "code",
   "execution_count": null,
   "id": "c829c5dd",
   "metadata": {},
   "outputs": [],
   "source": [
    "print(myDict.get('city', 27))"
   ]
  },
  {
   "cell_type": "code",
   "execution_count": null,
   "id": "02339bd4",
   "metadata": {},
   "outputs": [],
   "source": [
    "print(myDict.get('city'))"
   ]
  },
  {
   "cell_type": "code",
   "execution_count": null,
   "id": "19d153a6",
   "metadata": {},
   "outputs": [],
   "source": [
    "print(myDict.items())"
   ]
  },
  {
   "cell_type": "code",
   "execution_count": null,
   "id": "e2c85e8e",
   "metadata": {},
   "outputs": [],
   "source": [
    "print(myDict.keys())"
   ]
  },
  {
   "cell_type": "code",
   "execution_count": null,
   "id": "1b9deb76",
   "metadata": {},
   "outputs": [],
   "source": [
    "print(myDict.values())"
   ]
  },
  {
   "cell_type": "code",
   "execution_count": null,
   "id": "73ff72d5",
   "metadata": {},
   "outputs": [],
   "source": [
    "print(myDict.popitem())"
   ]
  },
  {
   "cell_type": "code",
   "execution_count": null,
   "id": "c5b03385",
   "metadata": {},
   "outputs": [],
   "source": [
    "print(myDict)"
   ]
  },
  {
   "cell_type": "code",
   "execution_count": null,
   "id": "e46ea6a6",
   "metadata": {},
   "outputs": [],
   "source": [
    "print(myDict.setdefault('name', 'added'))"
   ]
  },
  {
   "cell_type": "code",
   "execution_count": null,
   "id": "9d666cd7",
   "metadata": {},
   "outputs": [],
   "source": [
    "print(myDict)"
   ]
  },
  {
   "cell_type": "code",
   "execution_count": null,
   "id": "a827e016",
   "metadata": {},
   "outputs": [],
   "source": [
    "print(myDict.setdefault('name1', 'added'))"
   ]
  },
  {
   "cell_type": "code",
   "execution_count": null,
   "id": "0fc63db8",
   "metadata": {},
   "outputs": [],
   "source": [
    "print(myDict)"
   ]
  },
  {
   "cell_type": "code",
   "execution_count": null,
   "id": "4cce76f2",
   "metadata": {},
   "outputs": [],
   "source": [
    "print(myDict.pop('name1', 'not'))"
   ]
  },
  {
   "cell_type": "code",
   "execution_count": null,
   "id": "909a3d91",
   "metadata": {},
   "outputs": [],
   "source": [
    "print(myDict)"
   ]
  },
  {
   "cell_type": "code",
   "execution_count": null,
   "id": "b3073dff",
   "metadata": {},
   "outputs": [],
   "source": [
    "newDict = {'a':1, 'b':2,'c':3}\n",
    "myDict.update(newDict)\n",
    "print(myDict)"
   ]
  },
  {
   "cell_type": "code",
   "execution_count": null,
   "id": "7df9e113",
   "metadata": {},
   "outputs": [],
   "source": []
  }
 ],
 "metadata": {
  "kernelspec": {
   "display_name": "Python 3 (ipykernel)",
   "language": "python",
   "name": "python3"
  },
  "language_info": {
   "codemirror_mode": {
    "name": "ipython",
    "version": 3
   },
   "file_extension": ".py",
   "mimetype": "text/x-python",
   "name": "python",
   "nbconvert_exporter": "python",
   "pygments_lexer": "ipython3",
   "version": "3.7.13"
  }
 },
 "nbformat": 4,
 "nbformat_minor": 5
}
