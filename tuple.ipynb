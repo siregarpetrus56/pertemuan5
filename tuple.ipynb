{
 "cells": [
  {
   "cell_type": "markdown",
   "id": "23d4efee",
   "metadata": {},
   "source": [
    "#   Created by Elshad Karimov on 23/04/2020.\n",
    "#   Copyright © 2020 AppMillers. All rights reserved.\n",
    "\n",
    "#  How to create a Tuple?"
   ]
  },
  {
   "cell_type": "code",
   "execution_count": 1,
   "id": "55ca0306",
   "metadata": {},
   "outputs": [
    {
     "name": "stdout",
     "output_type": "stream",
     "text": [
      "('a', 'b', 'c', 'd', 'e')\n"
     ]
    }
   ],
   "source": [
    "newTuple = ('a', 'b', 'c', 'd', 'e')\n",
    "newTuple1 = tuple('abcde')\n",
    "print(newTuple)"
   ]
  },
  {
   "cell_type": "code",
   "execution_count": 2,
   "id": "67964bef",
   "metadata": {},
   "outputs": [
    {
     "name": "stdout",
     "output_type": "stream",
     "text": [
      "('a', 'b', 'c', 'd', 'e')\n"
     ]
    }
   ],
   "source": [
    "print(newTuple1)"
   ]
  },
  {
   "cell_type": "code",
   "execution_count": 23,
   "id": "60c2a795",
   "metadata": {},
   "outputs": [
    {
     "name": "stdout",
     "output_type": "stream",
     "text": [
      "('a', 'c', 'e')\n"
     ]
    }
   ],
   "source": [
    "# Access Tuple elements\n",
    "\n",
    "print(newTuple[-5::2]) "
   ]
  },
  {
   "cell_type": "code",
   "execution_count": 24,
   "id": "5e96af83",
   "metadata": {},
   "outputs": [
    {
     "name": "stdout",
     "output_type": "stream",
     "text": [
      "a\n",
      "b\n",
      "c\n",
      "d\n",
      "e\n"
     ]
    }
   ],
   "source": [
    "#  Traverse through tuple\n",
    "\n",
    "for i in newTuple:\n",
    "    print(i)"
   ]
  },
  {
   "cell_type": "code",
   "execution_count": 25,
   "id": "40cfa91e",
   "metadata": {},
   "outputs": [
    {
     "name": "stdout",
     "output_type": "stream",
     "text": [
      "a\n",
      "b\n",
      "c\n",
      "d\n",
      "e\n"
     ]
    }
   ],
   "source": [
    "for index in range(len(newTuple)):\n",
    "    print(newTuple[index])"
   ]
  },
  {
   "cell_type": "code",
   "execution_count": 28,
   "id": "94279109",
   "metadata": {},
   "outputs": [
    {
     "name": "stdout",
     "output_type": "stream",
     "text": [
      "True\n"
     ]
    }
   ],
   "source": [
    "#  How to search for an element in Tuple?\n",
    "\n",
    "print('a' in newTuple)"
   ]
  },
  {
   "cell_type": "code",
   "execution_count": 32,
   "id": "5a975bd6",
   "metadata": {},
   "outputs": [
    {
     "name": "stdout",
     "output_type": "stream",
     "text": [
      "0\n"
     ]
    }
   ],
   "source": [
    "def searchInTuple(pTuple, element):\n",
    "    for i in pTuple:\n",
    "        if i == element:\n",
    "            return pTuple.index(i)\n",
    "    return 'The element does not exist'\n",
    "\n",
    "print(searchInTuple(newTuple, 'a'))"
   ]
  },
  {
   "cell_type": "code",
   "execution_count": 33,
   "id": "a298f15e",
   "metadata": {},
   "outputs": [
    {
     "name": "stdout",
     "output_type": "stream",
     "text": [
      "(1, 4, 3, 2, 5, 1, 2, 6, 9, 8, 7)\n"
     ]
    }
   ],
   "source": [
    "# Tuple Operations / Functions\n",
    "myTuple = (1,4,3,2,5)\n",
    "myTuple1 = (1,2,6,9,8,7)\n",
    "\n",
    "print(myTuple + myTuple1) "
   ]
  },
  {
   "cell_type": "code",
   "execution_count": 34,
   "id": "6731c37d",
   "metadata": {},
   "outputs": [
    {
     "name": "stdout",
     "output_type": "stream",
     "text": [
      "(1, 4, 3, 2, 5, 1, 4, 3, 2, 5, 1, 4, 3, 2, 5, 1, 4, 3, 2, 5)\n"
     ]
    }
   ],
   "source": [
    "print(myTuple * 4)"
   ]
  },
  {
   "cell_type": "code",
   "execution_count": 35,
   "id": "c2f4da1d",
   "metadata": {},
   "outputs": [
    {
     "name": "stdout",
     "output_type": "stream",
     "text": [
      "True\n"
     ]
    }
   ],
   "source": [
    "print(2 in myTuple1)"
   ]
  },
  {
   "cell_type": "code",
   "execution_count": 36,
   "id": "bf558aa1",
   "metadata": {},
   "outputs": [
    {
     "data": {
      "text/plain": [
       "1"
      ]
     },
     "execution_count": 36,
     "metadata": {},
     "output_type": "execute_result"
    }
   ],
   "source": [
    "myTuple1.count(2)"
   ]
  },
  {
   "cell_type": "code",
   "execution_count": 37,
   "id": "6e83e5e7",
   "metadata": {},
   "outputs": [
    {
     "data": {
      "text/plain": [
       "1"
      ]
     },
     "execution_count": 37,
     "metadata": {},
     "output_type": "execute_result"
    }
   ],
   "source": [
    "myTuple1.index(2)"
   ]
  },
  {
   "cell_type": "code",
   "execution_count": 40,
   "id": "82a3e214",
   "metadata": {},
   "outputs": [
    {
     "name": "stdout",
     "output_type": "stream",
     "text": [
      "10 25 40\n"
     ]
    }
   ],
   "source": [
    "x, y, z = (10,15,20,25,30,35,40)[0::3]\n",
    "print(x,y,z)"
   ]
  },
  {
   "cell_type": "code",
   "execution_count": 47,
   "id": "803dbcc8",
   "metadata": {},
   "outputs": [
    {
     "name": "stdout",
     "output_type": "stream",
     "text": [
      "3 -6\n"
     ]
    }
   ],
   "source": [
    "x = 3\n",
    "y = -6\n",
    "\n",
    "x, y = (y, x)[::-1]\n",
    "print(x, y)"
   ]
  },
  {
   "cell_type": "code",
   "execution_count": null,
   "id": "d6b1e173",
   "metadata": {},
   "outputs": [],
   "source": []
  }
 ],
 "metadata": {
  "kernelspec": {
   "display_name": "Python 3 (ipykernel)",
   "language": "python",
   "name": "python3"
  },
  "language_info": {
   "codemirror_mode": {
    "name": "ipython",
    "version": 3
   },
   "file_extension": ".py",
   "mimetype": "text/x-python",
   "name": "python",
   "nbconvert_exporter": "python",
   "pygments_lexer": "ipython3",
   "version": "3.7.13"
  }
 },
 "nbformat": 4,
 "nbformat_minor": 5
}
