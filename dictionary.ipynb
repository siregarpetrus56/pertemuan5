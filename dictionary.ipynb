{
 "cells": [
  {
   "cell_type": "markdown",
   "id": "2664209b",
   "metadata": {},
   "source": [
    "# Dictionary created by Wilianto on 03/04/2023\n",
    "#### Copyright © 2023 Universitas IBBI. All rights reserved."
   ]
  },
  {
   "cell_type": "code",
   "execution_count": 2,
   "id": "b38683bb",
   "metadata": {},
   "outputs": [
    {
     "name": "stdout",
     "output_type": "stream",
     "text": [
      "{}\n"
     ]
    }
   ],
   "source": [
    "myDict = dict()\n",
    "print(myDict)"
   ]
  },
  {
   "cell_type": "code",
   "execution_count": 3,
   "id": "ab91a521",
   "metadata": {},
   "outputs": [
    {
     "name": "stdout",
     "output_type": "stream",
     "text": [
      "{}\n"
     ]
    }
   ],
   "source": [
    "secondDict = {}\n",
    "print(secondDict)"
   ]
  },
  {
   "cell_type": "code",
   "execution_count": 3,
   "id": "9ccfbcd3",
   "metadata": {},
   "outputs": [
    {
     "name": "stdout",
     "output_type": "stream",
     "text": [
      "{'one': 'uno', 'two': 'dos', 'three': 'tres'}\n"
     ]
    }
   ],
   "source": [
    "engToSp = {\"one\":\"uno\", \"two\":\"dos\", \"three\":\"tres\"}\n",
    "print(engToSp)"
   ]
  },
  {
   "cell_type": "code",
   "execution_count": 5,
   "id": "6949c091",
   "metadata": {},
   "outputs": [
    {
     "data": {
      "text/plain": [
       "'uno'"
      ]
     },
     "execution_count": 5,
     "metadata": {},
     "output_type": "execute_result"
    }
   ],
   "source": [
    "engToSp[\"one\"]"
   ]
  },
  {
   "cell_type": "code",
   "execution_count": 6,
   "id": "cfba3e77",
   "metadata": {},
   "outputs": [
    {
     "data": {
      "text/plain": [
       "'tres'"
      ]
     },
     "execution_count": 6,
     "metadata": {},
     "output_type": "execute_result"
    }
   ],
   "source": [
    "engToSp['three']"
   ]
  },
  {
   "cell_type": "code",
   "execution_count": 7,
   "id": "14c18b8a",
   "metadata": {},
   "outputs": [
    {
     "ename": "KeyError",
     "evalue": "'four'",
     "output_type": "error",
     "traceback": [
      "\u001b[1;31m---------------------------------------------------------------------------\u001b[0m",
      "\u001b[1;31mKeyError\u001b[0m                                  Traceback (most recent call last)",
      "\u001b[1;32m~\\AppData\\Local\\Temp\\ipykernel_12896\\215914439.py\u001b[0m in \u001b[0;36m<module>\u001b[1;34m\u001b[0m\n\u001b[1;32m----> 1\u001b[1;33m \u001b[0mengToSp\u001b[0m\u001b[1;33m[\u001b[0m\u001b[1;34m'four'\u001b[0m\u001b[1;33m]\u001b[0m\u001b[1;33m\u001b[0m\u001b[1;33m\u001b[0m\u001b[0m\n\u001b[0m",
      "\u001b[1;31mKeyError\u001b[0m: 'four'"
     ]
    }
   ],
   "source": [
    "engToSp['four']"
   ]
  },
  {
   "cell_type": "code",
   "execution_count": 8,
   "id": "5ff34259",
   "metadata": {},
   "outputs": [
    {
     "ename": "KeyError",
     "evalue": "'dos'",
     "output_type": "error",
     "traceback": [
      "\u001b[1;31m---------------------------------------------------------------------------\u001b[0m",
      "\u001b[1;31mKeyError\u001b[0m                                  Traceback (most recent call last)",
      "\u001b[1;32m~\\AppData\\Local\\Temp\\ipykernel_12896\\2573128144.py\u001b[0m in \u001b[0;36m<module>\u001b[1;34m\u001b[0m\n\u001b[1;32m----> 1\u001b[1;33m \u001b[0mengToSp\u001b[0m\u001b[1;33m[\u001b[0m\u001b[1;34m'dos'\u001b[0m\u001b[1;33m]\u001b[0m\u001b[1;33m\u001b[0m\u001b[1;33m\u001b[0m\u001b[0m\n\u001b[0m",
      "\u001b[1;31mKeyError\u001b[0m: 'dos'"
     ]
    }
   ],
   "source": [
    "engToSp['dos']"
   ]
  },
  {
   "cell_type": "code",
   "execution_count": null,
   "id": "6b5cbbbc",
   "metadata": {},
   "outputs": [],
   "source": []
  }
 ],
 "metadata": {
  "kernelspec": {
   "display_name": "Python 3 (ipykernel)",
   "language": "python",
   "name": "python3"
  },
  "language_info": {
   "codemirror_mode": {
    "name": "ipython",
    "version": 3
   },
   "file_extension": ".py",
   "mimetype": "text/x-python",
   "name": "python",
   "nbconvert_exporter": "python",
   "pygments_lexer": "ipython3",
   "version": "3.7.13"
  }
 },
 "nbformat": 4,
 "nbformat_minor": 5
}
